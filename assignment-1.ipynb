{
 "cells": [
  {
   "cell_type": "code",
   "execution_count": 1,
   "id": "80ea91f6",
   "metadata": {},
   "outputs": [
    {
     "name": "stdout",
     "output_type": "stream",
     "text": [
      "Hello World\n"
     ]
    }
   ],
   "source": [
    "print (\"Hello World\")"
   ]
  },
  {
   "cell_type": "code",
   "execution_count": null,
   "id": "e976f879",
   "metadata": {},
   "outputs": [],
   "source": [
    "for _ in range(3):\n",
    "    print(a)"
   ]
  },
  {
   "cell_type": "code",
   "execution_count": 2,
   "id": "a2face02",
   "metadata": {},
   "outputs": [
    {
     "name": "stdout",
     "output_type": "stream",
     "text": [
      "10 + 220 --> 230\n"
     ]
    }
   ],
   "source": [
    "a = 10\n",
    "b = 220\n",
    "c = a + b      \n",
    "print (a, \"+\", b, \"-->\", c)"
   ]
  },
  {
   "cell_type": "code",
   "execution_count": 3,
   "id": "c11f7102",
   "metadata": {},
   "outputs": [
    {
     "name": "stdout",
     "output_type": "stream",
     "text": [
      "Bhagat +  Singh --> Bhagat Singh\n"
     ]
    }
   ],
   "source": [
    "a = \"Bhagat\"\n",
    "b = \" Singh\"\n",
    "c = a + b\t\t\n",
    "print (a, \"+\", b, \"-->\", c)"
   ]
  },
  {
   "cell_type": "code",
   "execution_count": 4,
   "id": "1bffbac2",
   "metadata": {},
   "outputs": [
    {
     "name": "stdout",
     "output_type": "stream",
     "text": [
      "Bhagat + 100  -->  Bhagat100\n"
     ]
    }
   ],
   "source": [
    "a = \"Bhagat\"\n",
    "b = 100\n",
    "c = a + str(b)\t\t\n",
    "print (a, \"+\", b, \" --> \", c)\n"
   ]
  },
  {
   "cell_type": "code",
   "execution_count": null,
   "id": "64ebbbae",
   "metadata": {},
   "outputs": [],
   "source": [
    "# Assignment 2.1: Add three numbers and print the result\n",
    "num1 = 5\n",
    "num2 = 10\n",
    "num3 = c  # c is already defined as 15\n",
    "sum_result = num1 + num2 + num3\n",
    "print(\"Sum of three numbers:\", sum_result)\n",
    "\n",
    "# Assignment 2.2: Concatenate three strings and print the result\n",
    "str1 = a      # 'kfc'\n",
    "str2 = b      # 'is'\n",
    "str3 = \" tasty\"\n",
    "concat_result = str1 + str2 + str3\n",
    "print(\"Concatenation of three strings:\", concat_result)"
   ]
  },
  {
   "cell_type": "code",
   "execution_count": 5,
   "id": "81c8da0c",
   "metadata": {},
   "outputs": [
    {
     "name": "stdout",
     "output_type": "stream",
     "text": [
      "shaman + love kfc       -->  shamanlove kfc\n"
     ]
    }
   ],
   "source": [
    "a = input(\"Enter First String: \")\n",
    "b = input(\"Enter Second String: \")\n",
    "c = a + b\t\t\n",
    "print  (a, \"+\", b, \"      --> \", c)"
   ]
  },
  {
   "cell_type": "code",
   "execution_count": 6,
   "id": "991f6508",
   "metadata": {},
   "outputs": [
    {
     "name": "stdout",
     "output_type": "stream",
     "text": [
      "6  +  9  -->  15\n"
     ]
    }
   ],
   "source": [
    "a = int(input(\"Enter First No: \"))\n",
    "b = int(input(\"Enter Second No: \"))\n",
    "c = a + b\n",
    "print (a, \" + \", b, \" --> \", c)"
   ]
  },
  {
   "cell_type": "code",
   "execution_count": 7,
   "id": "237c4ba6",
   "metadata": {},
   "outputs": [
    {
     "name": "stdout",
     "output_type": "stream",
     "text": [
      "1\n",
      "2\n",
      "3\n",
      "4\n",
      "5\n",
      "6\n",
      "7\n",
      "8\n",
      "9\n",
      "10\n"
     ]
    }
   ],
   "source": [
    "i=1\n",
    "while i <= 10:\n",
    "\tprint (i)\n",
    "\ti = i+1"
   ]
  },
  {
   "cell_type": "code",
   "execution_count": 8,
   "id": "d1e77a83",
   "metadata": {},
   "outputs": [
    {
     "name": "stdout",
     "output_type": "stream",
     "text": [
      "range(10)        -->  [0, 1, 2, 3, 4, 5, 6, 7, 8, 9]\n",
      "range(10,20)     -->  [10, 11, 12, 13, 14, 15, 16, 17, 18, 19]\n",
      "range(0,20,2)    -->  [2, 4, 6, 8, 10, 12, 14, 16, 18]\n",
      "range(-10,-20,2) -->  []\n",
      "range(-10,-20,-2)-->  [-10, -12, -14, -16, -18]\n"
     ]
    }
   ],
   "source": [
    "print (\"range(10)        --> \", list(range(10)))\n",
    "print (\"range(10,20)     --> \", list(range(10,20)))\n",
    "print (\"range(0,20,2)    --> \", list(range(2,20,2)))\n",
    "print (\"range(-10,-20,2) --> \", list(range(-10,-20,2)))\n",
    "print (\"range(-10,-20,-2)--> \", list(range(-10,-20,-2)))"
   ]
  },
  {
   "cell_type": "code",
   "execution_count": 9,
   "id": "00007cc6",
   "metadata": {},
   "outputs": [
    {
     "name": "stdout",
     "output_type": "stream",
     "text": [
      "0\n",
      "1\n",
      "2\n",
      "3\n",
      "4\n",
      "5\n",
      "6\n",
      "7\n",
      "8\n",
      "9\n"
     ]
    }
   ],
   "source": [
    "for i in range(0,10):\n",
    "\tprint (i)"
   ]
  },
  {
   "cell_type": "code",
   "execution_count": 10,
   "id": "7359b3a4",
   "metadata": {},
   "outputs": [
    {
     "name": "stdout",
     "output_type": "stream",
     "text": [
      "0\n",
      "2\n",
      "4\n",
      "6\n",
      "8\n",
      "10\n",
      "12\n",
      "14\n",
      "16\n",
      "18\n"
     ]
    }
   ],
   "source": [
    "for i in range(0,20,2):\n",
    "\tprint (i)"
   ]
  },
  {
   "cell_type": "code",
   "execution_count": 11,
   "id": "d283bea0",
   "metadata": {},
   "outputs": [
    {
     "name": "stdout",
     "output_type": "stream",
     "text": [
      "0\n",
      "-1\n",
      "-2\n",
      "-3\n",
      "-4\n",
      "-5\n",
      "-6\n",
      "-7\n",
      "-8\n",
      "-9\n"
     ]
    }
   ],
   "source": [
    "for i in range(0,-10,-1):\n",
    "\tprint (i)"
   ]
  },
  {
   "cell_type": "code",
   "execution_count": 12,
   "id": "7081bceb",
   "metadata": {},
   "outputs": [
    {
     "name": "stdout",
     "output_type": "stream",
     "text": [
      "5  *  1  =  5\n",
      "5  *  2  =  10\n",
      "5  *  3  =  15\n",
      "5  *  4  =  20\n",
      "5  *  5  =  25\n",
      "5  *  6  =  30\n",
      "5  *  7  =  35\n",
      "5  *  8  =  40\n",
      "5  *  9  =  45\n",
      "5  *  10  =  50\n"
     ]
    }
   ],
   "source": [
    "for i in range(1,11):\n",
    "\tprint (5,\" * \", i , \" = \", i * 5)"
   ]
  },
  {
   "cell_type": "code",
   "execution_count": 13,
   "id": "ed7c088a",
   "metadata": {},
   "outputs": [
    {
     "name": "stdout",
     "output_type": "stream",
     "text": [
      "Sum is -->  55\n"
     ]
    }
   ],
   "source": [
    "s=0\n",
    "for i in range(1,11):\n",
    "\ts=s+i\n",
    "print (\"Sum is --> \",s)"
   ]
  },
  {
   "cell_type": "code",
   "execution_count": 14,
   "id": "ad0b6d9c",
   "metadata": {},
   "outputs": [
    {
     "name": "stdout",
     "output_type": "stream",
     "text": [
      "Sum is -->  55\n"
     ]
    }
   ],
   "source": [
    "print (\"Sum is --> \", sum(range(1,11)))\n"
   ]
  },
  {
   "cell_type": "code",
   "execution_count": null,
   "id": "8a462240",
   "metadata": {},
   "outputs": [],
   "source": [
    "# Assignment 4.1: Print tables of 7 and 9\n",
    "print(\"Table of 7:\")\n",
    "for i in range(1, 11):\n",
    "    print(f\"7 * {i} = {7 * i}\")\n",
    "\n",
    "print(\"\\nTable of 9:\")\n",
    "for i in range(1, 11):\n",
    "    print(f\"9 * {i} = {9 * i}\")\n",
    "\n",
    "# Assignment 4.2: Print table of n (n given by user)\n",
    "n = int(input(\"Enter a number for table: \"))\n",
    "print(f\"\\nTable of {n}:\")\n",
    "for i in range(1, 11):\n",
    "    print(f\"{n} * {i} = {n * i}\")\n",
    "\n",
    "# Assignment 4.3: Add all numbers from 1 to n (n given by user)\n",
    "n = int(input(\"Enter a number to sum up to: \"))\n",
    "total = sum(range(1, n + 1))\n",
    "print(f\"\\nSum of numbers from 1 to {n} is {total}\")"
   ]
  },
  {
   "cell_type": "code",
   "execution_count": 15,
   "id": "91d1c0c3",
   "metadata": {},
   "outputs": [
    {
     "name": "stdout",
     "output_type": "stream",
     "text": [
      "2  <  2\n"
     ]
    }
   ],
   "source": [
    "a = int(input(\"Enter First No: \"))\n",
    "b = int(input(\"Enter Second No: \"))\n",
    "if  a > b:\n",
    "\tprint (a,\" > \",b)\n",
    "else:\n",
    "\tprint (a,\" < \",b)"
   ]
  },
  {
   "cell_type": "code",
   "execution_count": 18,
   "id": "23c30dce",
   "metadata": {},
   "outputs": [
    {
     "name": "stdout",
     "output_type": "stream",
     "text": [
      "Prime\n"
     ]
    }
   ],
   "source": [
    "n = int(input(\"Enter a No: \"))\n",
    "f=0\n",
    "for i in range(2, n//2 + 1):\n",
    "\tif  n % i == 0:\n",
    "\t\tf=1\n",
    "\t\tbreak\n",
    "\n",
    "if f==0:\n",
    "\tprint (\"Prime\")\n",
    "else:\n",
    "\tprint (\"Not Prime\")"
   ]
  },
  {
   "cell_type": "code",
   "execution_count": 19,
   "id": "c1f3ffcc",
   "metadata": {},
   "outputs": [
    {
     "name": "stdout",
     "output_type": "stream",
     "text": [
      "a > b\n"
     ]
    }
   ],
   "source": [
    "a = input(\"Enter First String : \")\n",
    "b = input(\"Enter Second String: \")\n",
    "\n",
    "if a == b:\n",
    "\tprint (\"a == b\")\n",
    "elif a >= b:\n",
    "\tprint (\"a > b\")\n",
    "else:\n",
    "\tprint (\"a < b\")"
   ]
  },
  {
   "cell_type": "code",
   "execution_count": null,
   "id": "0d8cf94b",
   "metadata": {},
   "outputs": [],
   "source": [
    "# Assignment 5.1: Find max among three numbers using max() function\n",
    "num1 = int(input(\"Enter first number: \"))\n",
    "num2 = int(input(\"Enter second number: \"))\n",
    "num3 = int(input(\"Enter third number: \"))\n",
    "maximum = max(num1, num2, num3)\n",
    "print(\"Maximum among three numbers:\", maximum)\n",
    "\n",
    "# Assignment 5.2: Add all numbers divisible by 7 and 9 from 1 to n\n",
    "n = int(input(\"Enter the value of n: \"))\n",
    "sum_div_7_9 = sum(i for i in range(1, n+1) if i % 7 == 0 or i % 9 == 0)\n",
    "print(f\"Sum of numbers divisible by 7 or 9 from 1 to {n}:\", sum_div_7_9)\n",
    "\n",
    "# Assignment 5.3: Add all prime numbers from 1 to n\n",
    "def is_prime(x):\n",
    "    if x < 2:\n",
    "        return False\n",
    "    for j in range(2, int(x ** 0.5) + 1):\n",
    "        if x % j == 0:\n",
    "            return False\n",
    "    return True\n",
    "\n",
    "n = int(input(\"Enter the value of n for prime sum: \"))\n",
    "prime_sum = sum(i for i in range(1, n+1) if is_prime(i))\n",
    "print(f\"Sum of all prime numbers from 1 to {n}:\", prime_sum)"
   ]
  },
  {
   "cell_type": "code",
   "execution_count": 21,
   "id": "e507f801",
   "metadata": {},
   "outputs": [
    {
     "name": "stdout",
     "output_type": "stream",
     "text": [
      "Add(10,20) --> 30\n",
      "Add(20,50) --> 70\n",
      "Add(80,200) --> 280\n"
     ]
    }
   ],
   "source": [
    "def Add(a,b):\n",
    "\tc=a+b\n",
    "\treturn c\n",
    "\n",
    "print (\"Add(10,20) -->\", Add(10,20))\n",
    "print (\"Add(20,50) -->\", Add(20,50))\n",
    "print (\"Add(80,200) -->\", Add(80,200))"
   ]
  },
  {
   "cell_type": "code",
   "execution_count": 22,
   "id": "06bc774c",
   "metadata": {},
   "outputs": [
    {
     "name": "stdout",
     "output_type": "stream",
     "text": [
      "IsPrime(20)  -->  0\n",
      "IsPrime(23)  -->  1\n",
      "IsPrime(200) -->  0\n",
      "IsPrime(37)  -->  1\n"
     ]
    }
   ],
   "source": [
    "def IsPrime(n):\n",
    "\tfor i in range(2, n//2 + 1):\n",
    "\t\tif n%i==0:\n",
    "\t\t\treturn 0\n",
    "\treturn 1\n",
    "\n",
    "print (\"IsPrime(20)  --> \", IsPrime(20))\n",
    "print (\"IsPrime(23)  --> \", IsPrime(23))\n",
    "print (\"IsPrime(200) --> \", IsPrime(200))\n",
    "print (\"IsPrime(37)  --> \", IsPrime(37))"
   ]
  },
  {
   "cell_type": "code",
   "execution_count": 23,
   "id": "9172f935",
   "metadata": {},
   "outputs": [
    {
     "name": "stdout",
     "output_type": "stream",
     "text": [
      "AddN(10)  -->  55\n",
      "AddN(20)  -->  210\n",
      "AddN(50)  -->  1275\n",
      "AddN(200) -->  20100\n"
     ]
    }
   ],
   "source": [
    "def AddN(n):\n",
    "\ts= sum(range(n+1))\n",
    "\treturn s\n",
    "\n",
    "print (\"AddN(10)  --> \", AddN(10))\n",
    "print (\"AddN(20)  --> \", AddN(20))\n",
    "print (\"AddN(50)  --> \", AddN(50))\n",
    "print (\"AddN(200) --> \", AddN(200))"
   ]
  },
  {
   "cell_type": "code",
   "execution_count": null,
   "id": "00ec52ab",
   "metadata": {},
   "outputs": [],
   "source": [
    "# Assignment 6.1: Add all odd numbers from 1 to n\n",
    "def add_odds(n):\n",
    "    return sum(i for i in range(1, n+1) if i % 2 != 0)\n",
    "\n",
    "n = int(input(\"Enter the value of n for odd sum: \"))\n",
    "odd_sum = add_odds(n)\n",
    "print(f\"Sum of all odd numbers from 1 to {n}: {odd_sum}\")\n",
    "\n",
    "# Assignment 6.2: Add all prime numbers from 1 to n\n",
    "def is_prime(x):\n",
    "    if x < 2:\n",
    "        return False\n",
    "    for j in range(2, int(x ** 0.5) + 1):\n",
    "        if x % j == 0:\n",
    "            return False\n",
    "    return True\n",
    "\n",
    "def add_primes(n):\n",
    "    return sum(i for i in range(1, n+1) if is_prime(i))\n",
    "\n",
    "n = int(input(\"Enter the value of n for prime sum: \"))\n",
    "prime_sum = add_primes(n)\n",
    "print(f\"Sum of all prime numbers from 1 to {n}: {prime_sum}\")"
   ]
  },
  {
   "cell_type": "code",
   "execution_count": 24,
   "id": "6ed442d1",
   "metadata": {},
   "outputs": [
    {
     "name": "stdout",
     "output_type": "stream",
     "text": [
      "exp(-200)    -->  1.3838965267367376e-87\n",
      "log(100,2)   -->  6.643856189774725\n",
      "log(100,10)  -->  2.0\n",
      "log10(100)   -->  2.0\n",
      "m.cos(30)    -->  0.15425144988758405\n",
      "m.sin(30)    -->  -0.9880316240928618\n",
      "m.tan(30)    -->  -6.405331196646276\n",
      "m.sqrt(324)  -->  18.0\n",
      "m.ceil(89.9) -->  90\n",
      "m.floor(89.9)-->  89\n"
     ]
    }
   ],
   "source": [
    "import math as m\n",
    "print (\"exp(-200)    --> \", m.exp(-200))  # Exponential function\n",
    "print (\"log(100,2)   --> \", m.log(100,2)) # Log\n",
    "print (\"log(100,10)  --> \", m.log(100,10))# Log\n",
    "print (\"log10(100)   --> \", m.log10(100)) # Log 10\n",
    "print (\"m.cos(30)    --> \", m.cos(30))    # cos\n",
    "print (\"m.sin(30)    --> \", m.sin(30))    # sin\n",
    "print (\"m.tan(30)    --> \", m.tan(30))    # tan\n",
    "print (\"m.sqrt(324)  --> \", m.sqrt(324))\n",
    "print (\"m.ceil(89.9) --> \", m.ceil(89.9))\n",
    "print (\"m.floor(89.9)--> \", m.floor(89.9))"
   ]
  },
  {
   "cell_type": "code",
   "execution_count": 25,
   "id": "0366fde1",
   "metadata": {},
   "outputs": [
    {
     "name": "stdout",
     "output_type": "stream",
     "text": [
      "var      -->  Hello World!\n",
      "var[0]   -->  H\n",
      "var[1:5] -->  ello\n",
      "var[:-5] -->  Hello W\n"
     ]
    }
   ],
   "source": [
    "var = 'Hello World!'\n",
    "print (\"var      --> \", var)\n",
    "print (\"var[0]   --> \", var[0])\n",
    "print (\"var[1:5] --> \", var[1:5])\n",
    "print (\"var[:-5] --> \", var[:-5])"
   ]
  }
 ],
 "metadata": {
  "kernelspec": {
   "display_name": "Python 3",
   "language": "python",
   "name": "python3"
  },
  "language_info": {
   "codemirror_mode": {
    "name": "ipython",
    "version": 3
   },
   "file_extension": ".py",
   "mimetype": "text/x-python",
   "name": "python",
   "nbconvert_exporter": "python",
   "pygments_lexer": "ipython3",
   "version": "3.12.5"
  }
 },
 "nbformat": 4,
 "nbformat_minor": 5
}
