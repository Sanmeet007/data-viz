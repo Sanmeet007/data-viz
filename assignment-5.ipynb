{
 "cells": [
  {
   "cell_type": "code",
   "execution_count": 42,
   "id": "4185e7a7",
   "metadata": {},
   "outputs": [],
   "source": [
    "import pandas as pd\n",
    "import numpy as np\n",
    "from sklearn.metrics import jaccard_score\n",
    "from scipy.spatial.distance import euclidean, cityblock, chebyshev, hamming, minkowski\n",
    "from sklearn.metrics.pairwise import cosine_similarity"
   ]
  },
  {
   "cell_type": "code",
   "execution_count": 2,
   "id": "34ae41aa",
   "metadata": {},
   "outputs": [],
   "source": [
    "customer_A = [4, 5, 2, 3, 4]\n",
    "customer_B = [5, 3, 2, 4, 5]"
   ]
  },
  {
   "cell_type": "code",
   "execution_count": 3,
   "id": "403f1c1c",
   "metadata": {},
   "outputs": [],
   "source": [
    "customer_A_binary = [1, 0, 1, 1, 0, 1]\n",
    "customer_B_binary = [1, 1, 1, 0, 0, 1] "
   ]
  },
  {
   "cell_type": "markdown",
   "id": "e5671243",
   "metadata": {},
   "source": [
    "Write a Python program that\n",
    "computes the following measures between their preference vectors:\n",
    "1. Euclidean Distance – to measure overall difference in ratings.\n",
    "2. Manhattan Distance – to measure absolute deviation in preferences.\n",
    "3. Cosine Similarity – to check alignment of customer interests regardless of\n",
    "magnitude.\n",
    "4. Hamming Distance – if preferences are represented in binary (liked/disliked).\n",
    "5. Jaccard Similarity – to measure similarity in items both customers liked."
   ]
  },
  {
   "cell_type": "code",
   "execution_count": 41,
   "id": "c5d5de68",
   "metadata": {},
   "outputs": [],
   "source": [
    "def dumb(A, B):\n",
    "    A = np.array(A)\n",
    "    B = np.array(B)\n",
    "\n",
    "    print(f\"1. {euclidean(A,B)=}\")\n",
    "    print(f\"2. {cityblock(A,B)=}\")\n",
    "    print(f\"3. {cosine_similarity(A.reshape(1,-1),B.reshape(1,-1))=}\")\n",
    "    print(f\"3. {hamming(A,B)=}\")\n",
    "    print(f\"5. {jaccard_score(A,B)=}\")"
   ]
  },
  {
   "cell_type": "code",
   "execution_count": 31,
   "id": "08d16765",
   "metadata": {},
   "outputs": [
    {
     "name": "stdout",
     "output_type": "stream",
     "text": [
      "1. euclidean(A,B)=np.float64(1.4142135623730951)\n",
      "2. cityblock(A,B)=np.int64(2)\n",
      "3. cosine_similarity(A.reshape(1,-1),B.reshape(1,-1)).ravel()[0]=np.float64(0.75)\n",
      "3. hamming(A,B)=np.float64(0.3333333333333333)\n",
      "5. jaccard_score(A,B)=0.6\n"
     ]
    }
   ],
   "source": [
    "dumb(customer_A_binary, customer_B_binary)"
   ]
  },
  {
   "cell_type": "markdown",
   "id": "97578bca",
   "metadata": {},
   "source": [
    "Write a Python program to compute the following between two users:\n",
    "1. Chebyshev Distance – to measure the maximum difference in their ratings.\n",
    "2. Minkowski Distance (with p=3) – a generalized distance measure.\n",
    "Use the following data:\n",
    ">  Movie ratings (scale 1-5)\n"
   ]
  },
  {
   "cell_type": "code",
   "execution_count": 43,
   "id": "f364738c",
   "metadata": {},
   "outputs": [],
   "source": [
    "user1 = np.array([5, 3, 4, 4, 2])\n",
    "user2 = np.array([4, 2, 5, 4, 3])"
   ]
  },
  {
   "cell_type": "code",
   "execution_count": 48,
   "id": "13409dde",
   "metadata": {},
   "outputs": [
    {
     "name": "stdout",
     "output_type": "stream",
     "text": [
      "chebyshev(user1, user2)=np.int64(1)\n",
      "minkowski(user1, user2,3)=np.float64(1.5874010519681994)\n"
     ]
    }
   ],
   "source": [
    "print(f\"{chebyshev(user1, user2)=}\")\n",
    "print(f\"{minkowski(user1, user2,3)=}\")"
   ]
  }
 ],
 "metadata": {
  "kernelspec": {
   "display_name": "Python 3",
   "language": "python",
   "name": "python3"
  },
  "language_info": {
   "codemirror_mode": {
    "name": "ipython",
    "version": 3
   },
   "file_extension": ".py",
   "mimetype": "text/x-python",
   "name": "python",
   "nbconvert_exporter": "python",
   "pygments_lexer": "ipython3",
   "version": "3.13.0"
  }
 },
 "nbformat": 4,
 "nbformat_minor": 5
}
